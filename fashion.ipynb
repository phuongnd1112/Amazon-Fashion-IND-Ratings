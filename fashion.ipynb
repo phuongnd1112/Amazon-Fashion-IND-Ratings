{
 "cells": [
  {
   "attachments": {},
   "cell_type": "markdown",
   "metadata": {},
   "source": [
    "# Exploring and Visualising Amazon Sales Data"
   ]
  },
  {
   "cell_type": "code",
   "execution_count": 1,
   "metadata": {},
   "outputs": [],
   "source": [
    "#import necessary start-up libs\n",
    "import pandas as pd\n",
    "import numpy as np \n",
    "import matplotlib as plt \n",
    "import seaborn as sns "
   ]
  },
  {
   "cell_type": "markdown",
   "metadata": {},
   "source": [
    "## Part 1: Exploratory Analysis on Total Folder \n",
    "\n",
    "I noticed that the folder was quite large in size so wanted to write some code to explore what's underneath. "
   ]
  },
  {
   "cell_type": "code",
   "execution_count": 2,
   "metadata": {},
   "outputs": [
    {
     "name": "stdout",
     "output_type": "stream",
     "text": [
      "Total File Count: 140\n"
     ]
    },
    {
     "data": {
      "text/plain": [
       "['Air Conditioners.csv',\n",
       " 'All Appliances.csv',\n",
       " 'All Books.csv',\n",
       " 'All Car and Motorbike Products.csv',\n",
       " 'All Electronics.csv',\n",
       " 'All English.csv',\n",
       " 'All Exercise and Fitness.csv',\n",
       " 'All Grocery and Gourmet Foods.csv',\n",
       " 'All Hindi.csv',\n",
       " 'All Home and Kitchen.csv',\n",
       " 'All Movies and TV Shows.csv',\n",
       " 'All Music.csv',\n",
       " 'All Pet Supplies.csv',\n",
       " 'All Sports Fitness and Outdoors.csv',\n",
       " 'All Video Games.csv',\n",
       " 'Amazon Fashion.csv',\n",
       " 'Amazon Pharmacy.csv',\n",
       " 'Amazon-Products.csv',\n",
       " 'Baby Bath Skin and Grooming.csv',\n",
       " 'Baby Fashion.csv',\n",
       " 'Baby Products.csv',\n",
       " 'Backpacks.csv',\n",
       " 'Badminton.csv',\n",
       " 'Bags and Luggage.csv',\n",
       " 'Ballerinas.csv',\n",
       " 'Beauty and Grooming.csv',\n",
       " 'Bedroom Linen.csv',\n",
       " 'Blu-ray.csv',\n",
       " 'Camera Accessories.csv',\n",
       " 'Cameras.csv',\n",
       " 'Camping and Hiking.csv',\n",
       " 'Car Accessories.csv',\n",
       " 'Car and Bike Care.csv',\n",
       " 'Car Electronics.csv',\n",
       " 'Car Parts.csv',\n",
       " 'Cardio Equipment.csv',\n",
       " 'Casual Shoes.csv',\n",
       " 'Childrens Books.csv',\n",
       " 'Clothing.csv',\n",
       " 'Coffee Tea and Beverages.csv',\n",
       " 'Cricket.csv',\n",
       " 'Cycling.csv',\n",
       " 'Diapers.csv',\n",
       " 'Diet and Nutrition.csv',\n",
       " 'Dog supplies.csv',\n",
       " 'Entertainment Collectibles.csv',\n",
       " 'Ethnic Wear.csv',\n",
       " 'Exam Central.csv',\n",
       " 'Fashion and Silver Jewellery.csv',\n",
       " 'Fashion Sales and Deals.csv',\n",
       " 'Fashion Sandals.csv',\n",
       " 'Fiction Books.csv',\n",
       " 'Film Songs.csv',\n",
       " 'Fine Art.csv',\n",
       " 'Fitness Accessories.csv',\n",
       " 'Football.csv',\n",
       " 'Formal Shoes.csv',\n",
       " 'Furniture.csv',\n",
       " 'Gaming Accessories.csv',\n",
       " 'Gaming Consoles.csv',\n",
       " 'Garden and Outdoors.csv',\n",
       " 'Gold and Diamond Jewellery.csv',\n",
       " 'Handbags and Clutches.csv',\n",
       " 'Headphones.csv',\n",
       " 'Health and Personal Care.csv',\n",
       " 'Heating and Cooling Appliances.csv',\n",
       " 'Home Audio and Theater.csv',\n",
       " 'Home Dcor.csv',\n",
       " 'Home Entertainment Systems.csv',\n",
       " 'Home Furnishing.csv',\n",
       " 'Home Improvement.csv',\n",
       " 'Home Storage.csv',\n",
       " 'Household Supplies.csv',\n",
       " 'Indian Classical.csv',\n",
       " 'Indian Language Books.csv',\n",
       " 'Indoor Lighting.csv',\n",
       " 'Industrial and Scientific Supplies.csv',\n",
       " 'Innerwear.csv',\n",
       " 'International Music.csv',\n",
       " 'International Toy Store.csv',\n",
       " 'Janitorial and Sanitation Supplies.csv',\n",
       " 'Jeans.csv',\n",
       " 'Jewellery.csv',\n",
       " 'Kids Clothing.csv',\n",
       " 'Kids Fashion.csv',\n",
       " 'Kids Shoes.csv',\n",
       " 'Kids Watches.csv',\n",
       " 'Kindle eBooks.csv',\n",
       " 'Kitchen and Dining.csv',\n",
       " 'Kitchen and Home Appliances.csv',\n",
       " 'Kitchen Storage and Containers.csv',\n",
       " 'Lab and Scientific.csv',\n",
       " 'Lingerie and Nightwear.csv',\n",
       " 'Luxury Beauty.csv',\n",
       " 'Make-up.csv',\n",
       " 'Mens Fashion.csv',\n",
       " 'Motorbike Accessories and Parts.csv',\n",
       " 'Musical Instruments and Professional Audio.csv',\n",
       " 'Nursing and Feeding.csv',\n",
       " 'Pantry.csv',\n",
       " 'PC Games.csv',\n",
       " 'Personal Care Appliances.csv',\n",
       " 'Refrigerators.csv',\n",
       " 'Refurbished and Open Box.csv',\n",
       " 'Rucksacks.csv',\n",
       " 'Running.csv',\n",
       " 'School Bags.csv',\n",
       " 'School Textbooks.csv',\n",
       " 'Security Cameras.csv',\n",
       " 'Sewing and Craft Supplies.csv',\n",
       " 'Shirts.csv',\n",
       " 'Shoes.csv',\n",
       " 'Snack Foods.csv',\n",
       " 'Speakers.csv',\n",
       " 'Sports Collectibles.csv',\n",
       " 'Sports Shoes.csv',\n",
       " 'Sportswear.csv',\n",
       " 'STEM Toys Store.csv',\n",
       " 'Strength Training.csv',\n",
       " 'Strollers and Prams.csv',\n",
       " 'Subscribe and Save.csv',\n",
       " 'Suitcases and Trolley Bags.csv',\n",
       " 'Sunglasses.csv',\n",
       " 'T-shirts and Polos.csv',\n",
       " 'Televisions.csv',\n",
       " 'Test Measure and Inspect.csv',\n",
       " 'Textbooks.csv',\n",
       " 'The Designer Boutique.csv',\n",
       " 'Toys and Games.csv',\n",
       " 'Toys Gifting Store.csv',\n",
       " 'Travel Accessories.csv',\n",
       " 'Travel Duffles.csv',\n",
       " 'Value Bazaar.csv',\n",
       " 'Video Games Deals.csv',\n",
       " 'Wallets.csv',\n",
       " 'Washing Machines.csv',\n",
       " 'Watches.csv',\n",
       " 'Western Wear.csv',\n",
       " 'Womens Fashion.csv',\n",
       " 'Yoga.csv']"
      ]
     },
     "execution_count": 2,
     "metadata": {},
     "output_type": "execute_result"
    }
   ],
   "source": [
    "from os import listdir\n",
    "from os.path import isfile, join\n",
    "\n",
    "files_name = [f for f in listdir('./DataFiles/') if isfile(join('./DataFiles/', f))]\n",
    "print(\"Total File Count: \"+str(len(files_name)))\n",
    "files_name"
   ]
  },
  {
   "attachments": {},
   "cell_type": "markdown",
   "metadata": {},
   "source": [
    "Another observation I stumbled across was that a lot of these data entries contain the word \"Fashion\" - perhaps this is a good overall catogory to explore collectively. \n",
    "\n",
    "*Further improvement*: could be to find a lot to tag all entries with a broader category as not all fashion items are in fashion_list (for example). "
   ]
  },
  {
   "cell_type": "code",
   "execution_count": 3,
   "metadata": {},
   "outputs": [
    {
     "data": {
      "text/plain": [
       "['Amazon Fashion.csv',\n",
       " 'Baby Fashion.csv',\n",
       " 'Fashion and Silver Jewellery.csv',\n",
       " 'Fashion Sales and Deals.csv',\n",
       " 'Fashion Sandals.csv',\n",
       " 'Kids Fashion.csv',\n",
       " 'Mens Fashion.csv',\n",
       " 'Womens Fashion.csv']"
      ]
     },
     "execution_count": 3,
     "metadata": {},
     "output_type": "execute_result"
    }
   ],
   "source": [
    "fashion_data = [] \n",
    "#create empty fashion data list \n",
    "\n",
    "for f in files_name: \n",
    "    if \"Fashion\" in f:\n",
    "        fashion_data.append(f) \n",
    "\n",
    "fashion_data\n",
    "        "
   ]
  },
  {
   "attachments": {},
   "cell_type": "markdown",
   "metadata": {},
   "source": [
    "## Part 2: Examining Fashion Data\n",
    "\n",
    "For the sake of simplicity, we can begin with the Amazon Fashion dataset. Here, I import the CSV data into pandas and did a quick check of all columns characteristics (names and data types)"
   ]
  },
  {
   "cell_type": "code",
   "execution_count": 4,
   "metadata": {},
   "outputs": [
    {
     "name": "stdout",
     "output_type": "stream",
     "text": [
      "['name', 'main_category', 'sub_category', 'image', 'link', 'ratings', 'no_of_ratings', 'discount_price', 'actual_price']\n",
      "name              object\n",
      "main_category     object\n",
      "sub_category      object\n",
      "image             object\n",
      "link              object\n",
      "ratings           object\n",
      "no_of_ratings     object\n",
      "discount_price    object\n",
      "actual_price      object\n",
      "dtype: object\n"
     ]
    },
    {
     "data": {
      "text/html": [
       "<div>\n",
       "<style scoped>\n",
       "    .dataframe tbody tr th:only-of-type {\n",
       "        vertical-align: middle;\n",
       "    }\n",
       "\n",
       "    .dataframe tbody tr th {\n",
       "        vertical-align: top;\n",
       "    }\n",
       "\n",
       "    .dataframe thead th {\n",
       "        text-align: right;\n",
       "    }\n",
       "</style>\n",
       "<table border=\"1\" class=\"dataframe\">\n",
       "  <thead>\n",
       "    <tr style=\"text-align: right;\">\n",
       "      <th></th>\n",
       "      <th>name</th>\n",
       "      <th>main_category</th>\n",
       "      <th>sub_category</th>\n",
       "      <th>image</th>\n",
       "      <th>link</th>\n",
       "      <th>ratings</th>\n",
       "      <th>no_of_ratings</th>\n",
       "      <th>discount_price</th>\n",
       "      <th>actual_price</th>\n",
       "    </tr>\n",
       "  </thead>\n",
       "  <tbody>\n",
       "    <tr>\n",
       "      <th>0</th>\n",
       "      <td>Aqualogica Glow+ Dewy Sunscreen SPF 50 PA+++ F...</td>\n",
       "      <td>stores</td>\n",
       "      <td>Amazon Fashion</td>\n",
       "      <td>https://m.media-amazon.com/images/I/51TSC6Uogx...</td>\n",
       "      <td>https://www.amazon.in/Aqualogica-Sunscreen-Pro...</td>\n",
       "      <td>4.2</td>\n",
       "      <td>3,628</td>\n",
       "      <td>₹351</td>\n",
       "      <td>₹399</td>\n",
       "    </tr>\n",
       "    <tr>\n",
       "      <th>1</th>\n",
       "      <td>MARVIK Soft Silicone Adjustable Band Strap Com...</td>\n",
       "      <td>stores</td>\n",
       "      <td>Amazon Fashion</td>\n",
       "      <td>https://m.media-amazon.com/images/I/51vYDop04S...</td>\n",
       "      <td>https://www.amazon.in/MARVIK-Silicone-Adjustab...</td>\n",
       "      <td>3.9</td>\n",
       "      <td>291</td>\n",
       "      <td>₹249</td>\n",
       "      <td>₹999</td>\n",
       "    </tr>\n",
       "    <tr>\n",
       "      <th>2</th>\n",
       "      <td>108 Panchatantra Stories for Children (Illustr...</td>\n",
       "      <td>stores</td>\n",
       "      <td>Amazon Fashion</td>\n",
       "      <td>https://m.media-amazon.com/images/I/81VJ+MAc7Y...</td>\n",
       "      <td>https://www.amazon.in/108-Panchatantra-Stories...</td>\n",
       "      <td>4.4</td>\n",
       "      <td>2,950</td>\n",
       "      <td>₹125</td>\n",
       "      <td>₹160</td>\n",
       "    </tr>\n",
       "    <tr>\n",
       "      <th>3</th>\n",
       "      <td>Black and White and Blue: Adult Cinema From th...</td>\n",
       "      <td>stores</td>\n",
       "      <td>Amazon Fashion</td>\n",
       "      <td>https://m.media-amazon.com/images/I/51RIhaW3t1...</td>\n",
       "      <td>https://www.amazon.in/Black-White-Blue-Cinema-...</td>\n",
       "      <td>4.2</td>\n",
       "      <td>8</td>\n",
       "      <td>NaN</td>\n",
       "      <td>₹584.16</td>\n",
       "    </tr>\n",
       "    <tr>\n",
       "      <th>4</th>\n",
       "      <td>SAFARI 15 Ltrs Sea Blue Casual/School/College ...</td>\n",
       "      <td>stores</td>\n",
       "      <td>Amazon Fashion</td>\n",
       "      <td>https://m.media-amazon.com/images/I/61kmCas5OC...</td>\n",
       "      <td>https://www.amazon.in/SAFARI-Ltrs-Casual-Backp...</td>\n",
       "      <td>4.0</td>\n",
       "      <td>17,985</td>\n",
       "      <td>₹299</td>\n",
       "      <td>₹799</td>\n",
       "    </tr>\n",
       "  </tbody>\n",
       "</table>\n",
       "</div>"
      ],
      "text/plain": [
       "                                                name main_category   \n",
       "0  Aqualogica Glow+ Dewy Sunscreen SPF 50 PA+++ F...        stores  \\\n",
       "1  MARVIK Soft Silicone Adjustable Band Strap Com...        stores   \n",
       "2  108 Panchatantra Stories for Children (Illustr...        stores   \n",
       "3  Black and White and Blue: Adult Cinema From th...        stores   \n",
       "4  SAFARI 15 Ltrs Sea Blue Casual/School/College ...        stores   \n",
       "\n",
       "     sub_category                                              image   \n",
       "0  Amazon Fashion  https://m.media-amazon.com/images/I/51TSC6Uogx...  \\\n",
       "1  Amazon Fashion  https://m.media-amazon.com/images/I/51vYDop04S...   \n",
       "2  Amazon Fashion  https://m.media-amazon.com/images/I/81VJ+MAc7Y...   \n",
       "3  Amazon Fashion  https://m.media-amazon.com/images/I/51RIhaW3t1...   \n",
       "4  Amazon Fashion  https://m.media-amazon.com/images/I/61kmCas5OC...   \n",
       "\n",
       "                                                link ratings no_of_ratings   \n",
       "0  https://www.amazon.in/Aqualogica-Sunscreen-Pro...     4.2         3,628  \\\n",
       "1  https://www.amazon.in/MARVIK-Silicone-Adjustab...     3.9           291   \n",
       "2  https://www.amazon.in/108-Panchatantra-Stories...     4.4         2,950   \n",
       "3  https://www.amazon.in/Black-White-Blue-Cinema-...     4.2             8   \n",
       "4  https://www.amazon.in/SAFARI-Ltrs-Casual-Backp...     4.0        17,985   \n",
       "\n",
       "  discount_price actual_price  \n",
       "0           ₹351         ₹399  \n",
       "1           ₹249         ₹999  \n",
       "2           ₹125         ₹160  \n",
       "3            NaN      ₹584.16  \n",
       "4           ₹299         ₹799  "
      ]
     },
     "execution_count": 4,
     "metadata": {},
     "output_type": "execute_result"
    }
   ],
   "source": [
    "amzn_fashion = pd.read_csv('./DataFiles/Amazon Fashion.csv') \n",
    "column_names= amzn_fashion.columns.to_list() \n",
    "\n",
    "print(column_names) #9 entries \n",
    "print(amzn_fashion.dtypes) #all object -> need to convert (especially for ratings, no_of_ratings, discount price, actual_price)\n",
    "\n",
    "amzn_fashion.head(5)"
   ]
  },
  {
   "attachments": {},
   "cell_type": "markdown",
   "metadata": {},
   "source": [
    "### Part 3: Really Scrubing Down the Data"
   ]
  },
  {
   "attachments": {},
   "cell_type": "markdown",
   "metadata": {},
   "source": [
    "I noticed that the columns 'main category' and 'sub_category' could use a clean up as they essentially contain the same value. This checks for uniqueness per column and remove them based on this."
   ]
  },
  {
   "cell_type": "code",
   "execution_count": 5,
   "metadata": {},
   "outputs": [
    {
     "name": "stdout",
     "output_type": "stream",
     "text": [
      "0       stores\n",
      "1       stores\n",
      "2       stores\n",
      "3       stores\n",
      "4       stores\n",
      "         ...  \n",
      "2347    stores\n",
      "2348    stores\n",
      "2349    stores\n",
      "2350    stores\n",
      "2351    stores\n",
      "Name: main_category, Length: 2352, dtype: object\n"
     ]
    }
   ],
   "source": [
    "# dataframe could probably benefit from some removal (e.g. if all main_cat are stores then could be removed; imges and link currently have no immediate use?))\n",
    "#dropping repetitive column\n",
    "for c in column_names: \n",
    "    if len(set(amzn_fashion[c].values)) == 1:\n",
    "        print(str(amzn_fashion[c]))\n",
    "        amzn_fashion = amzn_fashion.drop(str(c), axis=1) \n",
    "        column_names.remove(c)\n",
    "    else: \n",
    "        pass \n",
    "\n",
    "amzn_fashion=amzn_fashion.dropna().reset_index(drop=True) # we drop na data to make it easier to work with (2352 to 1989 rows) \n"
   ]
  },
  {
   "attachments": {},
   "cell_type": "markdown",
   "metadata": {},
   "source": [
    "The data gets messy in that all columns are essentially object. This will make data processing especially HARD with numerical data that we need to process. \n",
    "\n",
    "Ratings were pretty straight forward. As most values were below 100 within the range of 0 to 5, convert them to float was relatively doable in one line. \n",
    "\n",
    "No of Ratings, on the other hands, needed to be scrubbed down to account for values above 1,000 which would contain a comma string. \n",
    "I stripped this down to replace with \"\", then convert them into a float as above."
   ]
  },
  {
   "cell_type": "code",
   "execution_count": 6,
   "metadata": {},
   "outputs": [
    {
     "name": "stdout",
     "output_type": "stream",
     "text": [
      "1985\n"
     ]
    },
    {
     "name": "stderr",
     "output_type": "stream",
     "text": [
      "C:\\Users\\phuon\\AppData\\Local\\Temp\\ipykernel_107200\\1471256321.py:6: SettingWithCopyWarning: \n",
      "A value is trying to be set on a copy of a slice from a DataFrame\n",
      "\n",
      "See the caveats in the documentation: https://pandas.pydata.org/pandas-docs/stable/user_guide/indexing.html#returning-a-view-versus-a-copy\n",
      "  amzn_fashion['no_of_ratings'][i] = float(amzn_fashion['no_of_ratings'][i].replace(\",\",\"\"))\n",
      "C:\\Users\\phuon\\AppData\\Local\\Temp\\ipykernel_107200\\1471256321.py:6: SettingWithCopyWarning: \n",
      "A value is trying to be set on a copy of a slice from a DataFrame\n",
      "\n",
      "See the caveats in the documentation: https://pandas.pydata.org/pandas-docs/stable/user_guide/indexing.html#returning-a-view-versus-a-copy\n",
      "  amzn_fashion['no_of_ratings'][i] = float(amzn_fashion['no_of_ratings'][i].replace(\",\",\"\"))\n",
      "C:\\Users\\phuon\\AppData\\Local\\Temp\\ipykernel_107200\\1471256321.py:6: SettingWithCopyWarning: \n",
      "A value is trying to be set on a copy of a slice from a DataFrame\n",
      "\n",
      "See the caveats in the documentation: https://pandas.pydata.org/pandas-docs/stable/user_guide/indexing.html#returning-a-view-versus-a-copy\n",
      "  amzn_fashion['no_of_ratings'][i] = float(amzn_fashion['no_of_ratings'][i].replace(\",\",\"\"))\n",
      "C:\\Users\\phuon\\AppData\\Local\\Temp\\ipykernel_107200\\1471256321.py:6: SettingWithCopyWarning: \n",
      "A value is trying to be set on a copy of a slice from a DataFrame\n",
      "\n",
      "See the caveats in the documentation: https://pandas.pydata.org/pandas-docs/stable/user_guide/indexing.html#returning-a-view-versus-a-copy\n",
      "  amzn_fashion['no_of_ratings'][i] = float(amzn_fashion['no_of_ratings'][i].replace(\",\",\"\"))\n",
      "C:\\Users\\phuon\\AppData\\Local\\Temp\\ipykernel_107200\\1471256321.py:6: SettingWithCopyWarning: \n",
      "A value is trying to be set on a copy of a slice from a DataFrame\n",
      "\n",
      "See the caveats in the documentation: https://pandas.pydata.org/pandas-docs/stable/user_guide/indexing.html#returning-a-view-versus-a-copy\n",
      "  amzn_fashion['no_of_ratings'][i] = float(amzn_fashion['no_of_ratings'][i].replace(\",\",\"\"))\n",
      "C:\\Users\\phuon\\AppData\\Local\\Temp\\ipykernel_107200\\1471256321.py:6: SettingWithCopyWarning: \n",
      "A value is trying to be set on a copy of a slice from a DataFrame\n",
      "\n",
      "See the caveats in the documentation: https://pandas.pydata.org/pandas-docs/stable/user_guide/indexing.html#returning-a-view-versus-a-copy\n",
      "  amzn_fashion['no_of_ratings'][i] = float(amzn_fashion['no_of_ratings'][i].replace(\",\",\"\"))\n",
      "C:\\Users\\phuon\\AppData\\Local\\Temp\\ipykernel_107200\\1471256321.py:6: SettingWithCopyWarning: \n",
      "A value is trying to be set on a copy of a slice from a DataFrame\n",
      "\n",
      "See the caveats in the documentation: https://pandas.pydata.org/pandas-docs/stable/user_guide/indexing.html#returning-a-view-versus-a-copy\n",
      "  amzn_fashion['no_of_ratings'][i] = float(amzn_fashion['no_of_ratings'][i].replace(\",\",\"\"))\n",
      "C:\\Users\\phuon\\AppData\\Local\\Temp\\ipykernel_107200\\1471256321.py:6: SettingWithCopyWarning: \n",
      "A value is trying to be set on a copy of a slice from a DataFrame\n",
      "\n",
      "See the caveats in the documentation: https://pandas.pydata.org/pandas-docs/stable/user_guide/indexing.html#returning-a-view-versus-a-copy\n",
      "  amzn_fashion['no_of_ratings'][i] = float(amzn_fashion['no_of_ratings'][i].replace(\",\",\"\"))\n"
     ]
    }
   ],
   "source": [
    "amzn_fashion['ratings'] = pd.to_numeric(amzn_fashion['ratings'], errors='coerce') # drop 4 rows from ratings that was not a number \n",
    "\n",
    "\n",
    "for i, r in enumerate(amzn_fashion):\n",
    "    try:\n",
    "        amzn_fashion['no_of_ratings'][i] = float(amzn_fashion['no_of_ratings'][i].replace(\",\",\"\"))\n",
    "    except ValueError: \n",
    "        pass \n",
    "\n",
    "amzn_fashion['no_of_ratings'] = pd.to_numeric(amzn_fashion['no_of_ratings'], errors='coerce')\n",
    "\n",
    "print(amzn_fashion['ratings'].notna().sum())\n",
    "#print(float(amzn_fashion['no_of_ratings'][0].replace(\",\",\"\")))"
   ]
  },
  {
   "attachments": {},
   "cell_type": "markdown",
   "metadata": {},
   "source": [
    "Quick Checkpoint"
   ]
  },
  {
   "cell_type": "code",
   "execution_count": 7,
   "metadata": {},
   "outputs": [
    {
     "name": "stdout",
     "output_type": "stream",
     "text": [
      "                                                name    sub_category   \n",
      "0  Aqualogica Glow+ Dewy Sunscreen SPF 50 PA+++ F...  Amazon Fashion  \\\n",
      "1  MARVIK Soft Silicone Adjustable Band Strap Com...  Amazon Fashion   \n",
      "2  108 Panchatantra Stories for Children (Illustr...  Amazon Fashion   \n",
      "3  SAFARI 15 Ltrs Sea Blue Casual/School/College ...  Amazon Fashion   \n",
      "4  The Derma Co 1% Hyaluronic Sunscreen Aqua Ultr...  Amazon Fashion   \n",
      "\n",
      "                                               image   \n",
      "0  https://m.media-amazon.com/images/I/51TSC6Uogx...  \\\n",
      "1  https://m.media-amazon.com/images/I/51vYDop04S...   \n",
      "2  https://m.media-amazon.com/images/I/81VJ+MAc7Y...   \n",
      "3  https://m.media-amazon.com/images/I/61kmCas5OC...   \n",
      "4  https://m.media-amazon.com/images/I/51x3cj+-iU...   \n",
      "\n",
      "                                                link  ratings  no_of_ratings   \n",
      "0  https://www.amazon.in/Aqualogica-Sunscreen-Pro...      4.2         3628.0  \\\n",
      "1  https://www.amazon.in/MARVIK-Silicone-Adjustab...      3.9          291.0   \n",
      "2  https://www.amazon.in/108-Panchatantra-Stories...      4.4         2950.0   \n",
      "3  https://www.amazon.in/SAFARI-Ltrs-Casual-Backp...      4.0        17985.0   \n",
      "4  https://www.amazon.in/Derma-Co-Hyaluronic-Suns...      4.3         5830.0   \n",
      "\n",
      "  discount_price actual_price  \n",
      "0           ₹351         ₹399  \n",
      "1           ₹249         ₹999  \n",
      "2           ₹125         ₹160  \n",
      "3           ₹299         ₹799  \n",
      "4           ₹448         ₹499  \n",
      "float64\n",
      "float64\n",
      "object\n",
      "object\n"
     ]
    }
   ],
   "source": [
    "print(amzn_fashion.head())\n",
    "print(amzn_fashion['ratings'].dtype)\n",
    "print(amzn_fashion['no_of_ratings'].dtype)\n",
    "print(amzn_fashion['actual_price'].dtype)\n",
    "print(amzn_fashion['discount_price'].dtype)"
   ]
  },
  {
   "attachments": {},
   "cell_type": "markdown",
   "metadata": {},
   "source": [
    "Converting the prices were mind-boggling at first as we're now accounting for MORE irregularities.\n",
    "I followed the same thought process for the comma value, now to include the currency infront. "
   ]
  },
  {
   "cell_type": "code",
   "execution_count": 8,
   "metadata": {},
   "outputs": [],
   "source": [
    "amzn_fashion['discount_price']= [float(amzn_fashion['discount_price'][i].replace(\"₹\",\"\").replace(\",\",\"\")) for i, r in enumerate(amzn_fashion['discount_price'])]\n",
    "\n",
    "amzn_fashion['discount_price'] = pd.to_numeric(amzn_fashion['discount_price'], errors='coerce')\n",
    "#print(amzn_fashion['discount_price'].notnull().sum())\n",
    "#print(amzn_fashion['discount_price'])\n",
    "\n",
    "\n",
    "amzn_fashion['actual_price']= [float(amzn_fashion['actual_price'][i].replace(\"₹\",\"\").replace(\",\",\"\")) for i, r in enumerate(amzn_fashion['actual_price'])]\n",
    "\n",
    "amzn_fashion['actual_price'] = pd.to_numeric(amzn_fashion['actual_price'], errors='coerce')"
   ]
  },
  {
   "attachments": {},
   "cell_type": "markdown",
   "metadata": {},
   "source": [
    "### Part 4: Visualising"
   ]
  },
  {
   "attachments": {},
   "cell_type": "markdown",
   "metadata": {},
   "source": [
    "I first calculated *Discount by %* as this could be a useful number in seeing the impact discounting has on ratings - or not? "
   ]
  },
  {
   "cell_type": "code",
   "execution_count": 9,
   "metadata": {},
   "outputs": [
    {
     "name": "stdout",
     "output_type": "stream",
     "text": [
      "0        13.675214\n",
      "1       301.204819\n",
      "2        28.000000\n",
      "3       167.224080\n",
      "4        11.383929\n",
      "           ...    \n",
      "1984    101.859724\n",
      "1985     34.459459\n",
      "1986     98.110599\n",
      "1987    420.841683\n",
      "1988      4.354354\n",
      "Name: Discount by %, Length: 1989, dtype: float64\n"
     ]
    }
   ],
   "source": [
    "amzn_fashion['Discount by %'] = (amzn_fashion['actual_price'] / amzn_fashion['discount_price'] - 1) * 100\n",
    "print(amzn_fashion['Discount by %'])"
   ]
  },
  {
   "attachments": {},
   "cell_type": "markdown",
   "metadata": {},
   "source": [
    "Box-plotting the ratings show that average rating is 4.0. \n",
    "I removed outliars for simplicity."
   ]
  },
  {
   "cell_type": "code",
   "execution_count": 10,
   "metadata": {},
   "outputs": [
    {
     "name": "stdout",
     "output_type": "stream",
     "text": [
      "Average Ratings on All Amazon Fahsion Items Is 4.0\n"
     ]
    },
    {
     "data": {
      "image/png": "[encoded data removed]",
      "text/plain": [
       "<Figure size 640x480 with 1 Axes>"
      ]
     },
     "metadata": {},
     "output_type": "display_data"
    }
   ],
   "source": [
    "#Ratings \n",
    "sns.set() \n",
    "sns.boxplot(data=amzn_fashion, x='ratings',showfliers=False)\n",
    "\n",
    "ratings_mean = round(amzn_fashion['ratings'].mean(),0)\n",
    "\n",
    "print('Average Ratings on All Amazon Fahsion Items Is ' + str(ratings_mean))"
   ]
  },
  {
   "cell_type": "code",
   "execution_count": 11,
   "metadata": {},
   "outputs": [
    {
     "name": "stdout",
     "output_type": "stream",
     "text": [
      "Average No of Ratings on All Amazon Fahsion Items Is 382.57\n"
     ]
    },
    {
     "data": {
      "image/png": "[encoded data removed]",
      "text/plain": [
       "<Figure size 640x480 with 1 Axes>"
      ]
     },
     "metadata": {},
     "output_type": "display_data"
    }
   ],
   "source": [
    "sns.set() \n",
    "sns.boxplot(data=amzn_fashion, x='no_of_ratings', showfliers=False) #remove outlier\n",
    "\n",
    "no_of_ratings_mean=round(amzn_fashion['no_of_ratings'].mean(),2)\n",
    "\n",
    "print('Average No of Ratings on All Amazon Fahsion Items Is ' + str(no_of_ratings_mean))"
   ]
  },
  {
   "attachments": {},
   "cell_type": "markdown",
   "metadata": {},
   "source": [
    "I wondered whether items with MORE rating will have a higher score - no correlation found."
   ]
  },
  {
   "cell_type": "code",
   "execution_count": 18,
   "metadata": {},
   "outputs": [
    {
     "data": {
      "text/plain": [
       "<Axes: xlabel='no_of_ratings', ylabel='ratings'>"
      ]
     },
     "execution_count": 18,
     "metadata": {},
     "output_type": "execute_result"
    },
    {
     "data": {
      "image/png": "[encoded data removed]",
      "text/plain": [
       "<Figure size 640x480 with 1 Axes>"
      ]
     },
     "metadata": {},
     "output_type": "display_data"
    }
   ],
   "source": [
    "sns.set() \n",
    "\n",
    "y_range =amzn_fashion['ratings'][amzn_fashion['ratings'].between(amzn_fashion['ratings'].quantile(.05), amzn_fashion['ratings'].quantile(.95)) ]\n",
    "x_range =amzn_fashion['no_of_ratings'][amzn_fashion['no_of_ratings'].between(amzn_fashion['no_of_ratings'].quantile(.05), amzn_fashion['no_of_ratings'].quantile(.95))]\n",
    "\n",
    "\n",
    "sns.scatterplot(x=x_range, y=y_range)  #conclusion = no relationship"
   ]
  },
  {
   "cell_type": "code",
   "execution_count": 13,
   "metadata": {},
   "outputs": [
    {
     "name": "stdout",
     "output_type": "stream",
     "text": [
      "Average % Discount on All Amazon Fahsion Items Is 202.0\n"
     ]
    },
    {
     "data": {
      "image/png": "[encoded data removed]",
      "text/plain": [
       "<Figure size 640x480 with 1 Axes>"
      ]
     },
     "metadata": {},
     "output_type": "display_data"
    }
   ],
   "source": [
    "sns.set() \n",
    "sns.boxplot(data=amzn_fashion, x='Discount by %',showfliers=False)\n",
    "\n",
    "discount_mean = round(amzn_fashion['Discount by %'].mean(),0)\n",
    "\n",
    "print('Average % Discount on All Amazon Fahsion Items Is ' + str(discount_mean))"
   ]
  },
  {
   "attachments": {},
   "cell_type": "markdown",
   "metadata": {},
   "source": [
    "I wondered whether items with higher % discount is rewarded with higher customer satisfaction - no results."
   ]
  },
  {
   "cell_type": "code",
   "execution_count": 19,
   "metadata": {},
   "outputs": [
    {
     "data": {
      "text/plain": [
       "<Axes: xlabel='Discount by %', ylabel='ratings'>"
      ]
     },
     "execution_count": 19,
     "metadata": {},
     "output_type": "execute_result"
    },
    {
     "data": {
      "image/png": "[encoded data removed]",
      "text/plain": [
       "<Figure size 640x480 with 1 Axes>"
      ]
     },
     "metadata": {},
     "output_type": "display_data"
    }
   ],
   "source": [
    "sns.set() \n",
    "\n",
    "y_range =amzn_fashion['ratings'][amzn_fashion['ratings'].between(amzn_fashion['ratings'].quantile(.05), amzn_fashion['ratings'].quantile(.95)) ]\n",
    "x_range =amzn_fashion['Discount by %'][amzn_fashion['Discount by %'].between(amzn_fashion['Discount by %'].quantile(.05), amzn_fashion['Discount by %'].quantile(.95))]\n",
    "\n",
    "\n",
    "sns.scatterplot(x=x_range, y=y_range) #no trend here either"
   ]
  }
 ],
 "metadata": {
  "kernelspec": {
   "display_name": "Python 3",
   "language": "python",
   "name": "python3"
  },
  "language_info": {
   "codemirror_mode": {
    "name": "ipython",
    "version": 3
   },
   "file_extension": ".py",
   "mimetype": "text/x-python",
   "name": "python",
   "nbconvert_exporter": "python",
   "pygments_lexer": "ipython3",
   "version": "3.9.11"
  },
  "orig_nbformat": 4
 },
 "nbformat": 4,
 "nbformat_minor": 2
}
